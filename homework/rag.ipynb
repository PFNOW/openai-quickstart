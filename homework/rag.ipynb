{
 "cells": [
  {
   "metadata": {},
   "cell_type": "markdown",
   "source": "# 1.导入必要的包",
   "id": "288709bcb25d9475"
  },
  {
   "cell_type": "code",
   "id": "initial_id",
   "metadata": {
    "collapsed": true,
    "ExecuteTime": {
     "end_time": "2024-12-24T13:28:31.587797Z",
     "start_time": "2024-12-24T13:28:30.604121Z"
    }
   },
   "source": [
    "import os\n",
    "from langchain_text_splitters import RecursiveCharacterTextSplitter\n",
    "from langchain_chroma import Chroma\n",
    "from langchain_openai import OpenAIEmbeddings\n",
    "from langchain_core.output_parsers import StrOutputParser\n",
    "from langchain_core.runnables import RunnablePassthrough\n",
    "from langchain import hub\n",
    "from langchain_core.prompts import ChatPromptTemplate\n",
    "from langchain_openai import ChatOpenAI"
   ],
   "outputs": [],
   "execution_count": 1
  },
  {
   "metadata": {},
   "cell_type": "markdown",
   "source": "# 2.设置一些参数，如API Key和API网址等环境变量 **（可选）**",
   "id": "6724639404c693c3"
  },
  {
   "metadata": {
    "ExecuteTime": {
     "end_time": "2024-12-24T13:32:36.690984Z",
     "start_time": "2024-12-24T13:32:36.687507Z"
    }
   },
   "cell_type": "code",
   "source": [
    "# os.environ[\"OPENAI_API_BASE\"] = \"\"\n",
    "# os.environ[\"OPENAI_API_KEY\"] = \"\""
   ],
   "id": "d6649c0df4d85a2a",
   "outputs": [],
   "execution_count": 8
  },
  {
   "metadata": {},
   "cell_type": "markdown",
   "source": "# 2.加载文章内容",
   "id": "a80b858c45fe0d84"
  },
  {
   "metadata": {
    "ExecuteTime": {
     "end_time": "2024-12-24T13:31:18.334273Z",
     "start_time": "2024-12-24T13:31:18.331018Z"
    }
   },
   "cell_type": "code",
   "source": [
    "with open(\"./content.md\", \"r\", encoding=\"utf-8\") as f:\n",
    "    content = f.read()"
   ],
   "id": "b40c43e369d9ea1b",
   "outputs": [],
   "execution_count": 3
  },
  {
   "metadata": {
    "ExecuteTime": {
     "end_time": "2024-12-24T13:31:20.270204Z",
     "start_time": "2024-12-24T13:31:20.267295Z"
    }
   },
   "cell_type": "code",
   "source": [
    "# 检查加载的文档内容\n",
    "print(len(content))  # 打印第一个文档内容的长度\n",
    "print(content[:100])"
   ],
   "id": "83d2ff73452d260c",
   "outputs": [
    {
     "name": "stdout",
     "output_type": "stream",
     "text": [
      "8007\n",
      "# 《黑神话：悟空》招贤纳士，游戏科学放出多个岗位\n",
      "## 【本文由小黑盒作者@bgim于12月23日发布，转载请标明出处！】\n",
      "随着《黑神话：悟空》爆火，游戏科学(Game Science)再次引发了玩\n"
     ]
    }
   ],
   "execution_count": 4
  },
  {
   "metadata": {
    "ExecuteTime": {
     "end_time": "2024-12-24T13:31:39.964498Z",
     "start_time": "2024-12-24T13:31:39.962102Z"
    }
   },
   "cell_type": "code",
   "source": [
    "text_splitter = RecursiveCharacterTextSplitter(\n",
    "    chunk_size=1000, chunk_overlap=200, add_start_index=True\n",
    ")\n",
    "all_splits = text_splitter.split_text(content)"
   ],
   "id": "6ad4fb24b1c6db3",
   "outputs": [],
   "execution_count": 5
  },
  {
   "metadata": {
    "ExecuteTime": {
     "end_time": "2024-12-24T13:31:41.596508Z",
     "start_time": "2024-12-24T13:31:41.593511Z"
    }
   },
   "cell_type": "code",
   "source": [
    "# 检查分割后的块数量和内容\n",
    "print(len(all_splits))  # 打印分割后的文档块数量\n",
    "print(len(all_splits[0]))  # 打印第一个块的字符数\n",
    "print(all_splits[0])  # 打印第一个块的内容"
   ],
   "id": "28f6ca9f2e0a570d",
   "outputs": [
    {
     "name": "stdout",
     "output_type": "stream",
     "text": [
      "10\n",
      "807\n",
      "# 《黑神话：悟空》招贤纳士，游戏科学放出多个岗位\n",
      "## 【本文由小黑盒作者@bgim于12月23日发布，转载请标明出处！】\n",
      "随着《黑神话：悟空》爆火，游戏科学(Game Science)再次引发了玩家的热烈讨论和关注。近期，游戏科学又发布了冬季招聘信息，宣告他们正在寻找各类人才加入团队，为这款备受期待的作品注入新的活力。 \n",
      "除了程序员和设计师外，IP运营、网站开发等多个岗位也成为此次招聘的重点，显示出游戏科学不仅专注于技术开发，还在积极扩展《黑神话：悟空》的品牌和内容生态。这也意味着，玩家可以期待更多丰富的故事和角色设定。\n",
      "对于热衷《黑神话：悟空》的玩家，现阶段正是加入这一创意团队的好机会。\n",
      "《黑神话：悟空》的未来不仅仅局限于一款游戏，它的IP生态和世界观正在不断扩展，未来的内容和创意也将更加丰富。\n",
      "\n",
      "# 游戏科学招人了!IP运营等岗位 扩展黑神话IP影响力?\n",
      "## 2024-12-18 21:02:38 来源：游民星空 作者：猛鲨男鱼王 编辑：猛鲨男鱼王　浏览：15203\n",
      "游戏科学在其官方渠道发布了2024年冬季的最新内部推荐岗位信息。此次招聘涵盖了杭州和深圳两地的多个职位。\n",
      "岗位涉及了技术、设计、运营、行政等多个领域。其中可以看到对于IP运营和设计师的招聘需求，反映出游戏科学在原创IP开发和运营方面的战略布局，或许不久之后，我们可以看到更多《黑神话》IP的相关内容产出和亮相。\n",
      "\n",
      "# “黑神话：悟空” 爆火，想去“游戏科学”上班，先来看看薪资待遇和要求\n",
      "## 工程师老罗\n",
      "### 一、公司背景\n",
      "深圳市游科互动科技有限公司（游戏科学）是一家专注于探索互动娱乐体验的公司，其代表作品包括备受关注的《黑神话：悟空》。该公司致力于通过先进的技术和创新的理念，为玩家带来前所未有的游戏体验。\n",
      "\n",
      "### 二、招聘岗位及薪资\n",
      "根据最新的招聘信息，游戏科学在多个岗位上均有招聘需求，具体岗位及薪资范围如下：\n"
     ]
    }
   ],
   "execution_count": 6
  },
  {
   "metadata": {},
   "cell_type": "markdown",
   "source": [
    "# 3.使用 Chroma 向量存储和 OpenAIEmbeddings 模型，将分割的文档块嵌入并存储\n",
    "### 经过测试，中转key有可能会有openai的embedding模型，只要在环境变量配置中转网址和key即可，但是生产力环境请使用官方key"
   ],
   "id": "924f02c721a2ae0b"
  },
  {
   "metadata": {
    "ExecuteTime": {
     "end_time": "2024-12-24T13:32:54.283280Z",
     "start_time": "2024-12-24T13:32:41.698454Z"
    }
   },
   "cell_type": "code",
   "source": [
    "vectorstore = Chroma.from_texts(\n",
    "    texts=all_splits,\n",
    "    embedding=OpenAIEmbeddings()\n",
    ")"
   ],
   "id": "5a23a4383fdb5607",
   "outputs": [],
   "execution_count": 9
  },
  {
   "metadata": {
    "ExecuteTime": {
     "end_time": "2024-12-24T13:32:54.290573Z",
     "start_time": "2024-12-24T13:32:54.286285Z"
    }
   },
   "cell_type": "code",
   "source": [
    "# 查看 vectorstore 数据类型\n",
    "type(vectorstore)"
   ],
   "id": "de7decc1a9fc6e94",
   "outputs": [
    {
     "data": {
      "text/plain": [
       "langchain_chroma.vectorstores.Chroma"
      ]
     },
     "execution_count": 10,
     "metadata": {},
     "output_type": "execute_result"
    }
   ],
   "execution_count": 10
  },
  {
   "metadata": {},
   "cell_type": "code",
   "outputs": [],
   "execution_count": null,
   "source": "",
   "id": "ee5a29339f0fb91e"
  },
  {
   "metadata": {},
   "cell_type": "markdown",
   "source": "# 4.使用 VectorStoreRetriever 从向量存储中检索与查询最相关的文档",
   "id": "745feb0e16daf12b"
  },
  {
   "metadata": {
    "ExecuteTime": {
     "end_time": "2024-12-24T13:33:16.776849Z",
     "start_time": "2024-12-24T13:33:16.774552Z"
    }
   },
   "cell_type": "code",
   "source": "retriever = vectorstore.as_retriever(search_type=\"similarity\", search_kwargs={\"k\": 6})",
   "id": "bb6aed7b6cb510e8",
   "outputs": [],
   "execution_count": 11
  },
  {
   "metadata": {
    "ExecuteTime": {
     "end_time": "2024-12-24T13:33:19.006571Z",
     "start_time": "2024-12-24T13:33:19.004568Z"
    }
   },
   "cell_type": "code",
   "source": [
    "# 查看 type(retriever) 数据类型\n",
    "print(type(retriever))"
   ],
   "id": "e66e65c7085ab2ae",
   "outputs": [
    {
     "name": "stdout",
     "output_type": "stream",
     "text": [
      "<class 'langchain_core.vectorstores.base.VectorStoreRetriever'>\n"
     ]
    }
   ],
   "execution_count": 12
  },
  {
   "metadata": {
    "ExecuteTime": {
     "end_time": "2024-12-24T13:42:04.712735Z",
     "start_time": "2024-12-24T13:42:01.801714Z"
    }
   },
   "cell_type": "code",
   "source": [
    "# 检查检索到的文档内容\n",
    "retrieved_docs = retriever.invoke(\"游戏科学招聘地点在哪里？\")\n",
    "print(retrieved_docs[0])\n"
   ],
   "id": "d65bc3de296e8e05",
   "outputs": [
    {
     "name": "stdout",
     "output_type": "stream",
     "text": [
      "page_content='# 《黑神话：悟空》招贤纳士，游戏科学放出多个岗位\n",
      "## 【本文由小黑盒作者@bgim于12月23日发布，转载请标明出处！】\n",
      "随着《黑神话：悟空》爆火，游戏科学(Game Science)再次引发了玩家的热烈讨论和关注。近期，游戏科学又发布了冬季招聘信息，宣告他们正在寻找各类人才加入团队，为这款备受期待的作品注入新的活力。 \n",
      "除了程序员和设计师外，IP运营、网站开发等多个岗位也成为此次招聘的重点，显示出游戏科学不仅专注于技术开发，还在积极扩展《黑神话：悟空》的品牌和内容生态。这也意味着，玩家可以期待更多丰富的故事和角色设定。\n",
      "对于热衷《黑神话：悟空》的玩家，现阶段正是加入这一创意团队的好机会。\n",
      "《黑神话：悟空》的未来不仅仅局限于一款游戏，它的IP生态和世界观正在不断扩展，未来的内容和创意也将更加丰富。\n",
      "\n",
      "# 游戏科学招人了!IP运营等岗位 扩展黑神话IP影响力?\n",
      "## 2024-12-18 21:02:38 来源：游民星空 作者：猛鲨男鱼王 编辑：猛鲨男鱼王　浏览：15203\n",
      "游戏科学在其官方渠道发布了2024年冬季的最新内部推荐岗位信息。此次招聘涵盖了杭州和深圳两地的多个职位。\n",
      "岗位涉及了技术、设计、运营、行政等多个领域。其中可以看到对于IP运营和设计师的招聘需求，反映出游戏科学在原创IP开发和运营方面的战略布局，或许不久之后，我们可以看到更多《黑神话》IP的相关内容产出和亮相。\n",
      "\n",
      "# “黑神话：悟空” 爆火，想去“游戏科学”上班，先来看看薪资待遇和要求\n",
      "## 工程师老罗\n",
      "### 一、公司背景\n",
      "深圳市游科互动科技有限公司（游戏科学）是一家专注于探索互动娱乐体验的公司，其代表作品包括备受关注的《黑神话：悟空》。该公司致力于通过先进的技术和创新的理念，为玩家带来前所未有的游戏体验。\n",
      "\n",
      "### 二、招聘岗位及薪资\n",
      "根据最新的招聘信息，游戏科学在多个岗位上均有招聘需求，具体岗位及薪资范围如下：'\n"
     ]
    }
   ],
   "execution_count": 32
  },
  {
   "metadata": {},
   "cell_type": "markdown",
   "source": [
    "# 5.生成回答\n",
    "定义 RAG 链，将用户问题与检索到的文档结合并生成答案\n",
    "## 5.1 初始化大模型\n"
   ],
   "id": "c5674963735121ed"
  },
  {
   "metadata": {
    "ExecuteTime": {
     "end_time": "2024-12-24T13:33:39.791174Z",
     "start_time": "2024-12-24T13:33:39.020019Z"
    }
   },
   "cell_type": "code",
   "source": [
    "# 很神奇，貌似在环境变量里填了中转API，就不用在初始化的时候填API了\n",
    "llm = ChatOpenAI(model=\"gpt-4o-mini\")"
   ],
   "id": "ffa2b448e2a1f72d",
   "outputs": [],
   "execution_count": 14
  },
  {
   "metadata": {},
   "cell_type": "markdown",
   "source": "## 5.2 LangSmith hub提示词模板",
   "id": "a628000de6dbcbe6"
  },
  {
   "metadata": {
    "ExecuteTime": {
     "end_time": "2024-12-24T13:45:21.101233Z",
     "start_time": "2024-12-24T13:45:19.893959Z"
    }
   },
   "cell_type": "code",
   "source": [
    "# 使用 hub 模块拉取 rag 提示词模板\n",
    "# 报错无关，人和程序都能跑 LangSmithMissingAPIKeyWarning: API key must be provided when using hosted LangSmith API   warnings.warn(\n",
    "prompt = hub.pull(\"zbgd/rag-prompt\")"
   ],
   "id": "acf8e55e96d39e67",
   "outputs": [
    {
     "name": "stderr",
     "output_type": "stream",
     "text": [
      "D:\\LLM\\openai-quickstart\\.venv\\Lib\\site-packages\\langsmith\\client.py:261: LangSmithMissingAPIKeyWarning: API key must be provided when using hosted LangSmith API\n",
      "  warnings.warn(\n"
     ]
    }
   ],
   "execution_count": 33
  },
  {
   "metadata": {},
   "cell_type": "code",
   "outputs": [],
   "execution_count": null,
   "source": "",
   "id": "e67655ec94a06c1c"
  },
  {
   "metadata": {
    "ExecuteTime": {
     "end_time": "2024-12-24T13:45:22.879130Z",
     "start_time": "2024-12-24T13:45:22.876131Z"
    }
   },
   "cell_type": "code",
   "source": [
    "# 打印模板\n",
    "print(prompt.messages)"
   ],
   "id": "a030eb42fe7eeb28",
   "outputs": [
    {
     "name": "stdout",
     "output_type": "stream",
     "text": [
      "[HumanMessagePromptTemplate(prompt=PromptTemplate(input_variables=['context', 'question'], input_types={}, partial_variables={}, template='你是问答任务的助手。 使用以下检索到的上下文来回答问题。 如果你不知道答案，就说你不知道。 最多使用三个句子并保持答案简洁。\\nQuestion: {question} \\nContext: {context} \\nAnswer:'), additional_kwargs={})]\n"
     ]
    }
   ],
   "execution_count": 34
  },
  {
   "metadata": {
    "ExecuteTime": {
     "end_time": "2024-12-24T13:45:26.374768Z",
     "start_time": "2024-12-24T13:45:26.371700Z"
    }
   },
   "cell_type": "code",
   "source": [
    "# 为 context 和 question 填充样例数据，并生成 ChatModel 可用的 Messages\n",
    "example_messages = prompt.invoke(\n",
    "    {\"context\": \"filler context\", \"question\": \"filler question\"}\n",
    ").to_messages()"
   ],
   "id": "5a7c414dd289193c",
   "outputs": [],
   "execution_count": 35
  },
  {
   "metadata": {
    "ExecuteTime": {
     "end_time": "2024-12-24T13:45:29.020326Z",
     "start_time": "2024-12-24T13:45:29.017308Z"
    }
   },
   "cell_type": "code",
   "source": [
    "# 查看提示词\n",
    "print(example_messages[0].content)"
   ],
   "id": "6e0f33121e96aa99",
   "outputs": [
    {
     "name": "stdout",
     "output_type": "stream",
     "text": [
      "你是问答任务的助手。 使用以下检索到的上下文来回答问题。 如果你不知道答案，就说你不知道。 最多使用三个句子并保持答案简洁。\n",
      "Question: filler question \n",
      "Context: filler context \n",
      "Answer:\n"
     ]
    }
   ],
   "execution_count": 36
  },
  {
   "metadata": {},
   "cell_type": "markdown",
   "source": "# 5.3 使用 LCEL 构建 RAG Chain\n",
   "id": "812ca3f5538c4092"
  },
  {
   "metadata": {
    "ExecuteTime": {
     "end_time": "2024-12-24T13:46:09.349702Z",
     "start_time": "2024-12-24T13:46:09.346931Z"
    }
   },
   "cell_type": "code",
   "source": [
    "rag_chain = (\n",
    "    {\"context\": retriever, \"question\": RunnablePassthrough()}\n",
    "    | prompt\n",
    "    | llm\n",
    "    | StrOutputParser()\n",
    ")"
   ],
   "id": "fd597b73a18e19d5",
   "outputs": [],
   "execution_count": 37
  },
  {
   "metadata": {},
   "cell_type": "markdown",
   "source": "# 5.4 生成回答",
   "id": "eb61c928747835df"
  },
  {
   "metadata": {
    "ExecuteTime": {
     "end_time": "2024-12-24T13:46:16.192513Z",
     "start_time": "2024-12-24T13:46:11.417915Z"
    }
   },
   "cell_type": "code",
   "source": [
    "# 流式生成回答\n",
    "for chunk in rag_chain.stream(\"游戏科学招聘地点在哪里?\"):\n",
    "    print(chunk, end=\"\", flush=True)"
   ],
   "id": "d2cf15e9576df03b",
   "outputs": [
    {
     "name": "stdout",
     "output_type": "stream",
     "text": [
      "游戏科学的招聘地点主要在杭州和深圳两地。"
     ]
    }
   ],
   "execution_count": 38
  },
  {
   "metadata": {
    "ExecuteTime": {
     "end_time": "2024-12-24T13:49:20.170991Z",
     "start_time": "2024-12-24T13:48:54.881615Z"
    }
   },
   "cell_type": "code",
   "source": [
    "# 同步生成回答\n",
    "prompt_value = rag_chain.invoke(\"游戏科学下一步计划做什么?\")"
   ],
   "id": "6a66f8daac488a4e",
   "outputs": [],
   "execution_count": 39
  },
  {
   "metadata": {
    "ExecuteTime": {
     "end_time": "2024-12-24T13:49:20.175666Z",
     "start_time": "2024-12-24T13:49:20.173163Z"
    }
   },
   "cell_type": "code",
   "source": "print(prompt_value)",
   "id": "750a9ed156e718b6",
   "outputs": [
    {
     "name": "stdout",
     "output_type": "stream",
     "text": [
      "游戏科学的下一步计划包括推出《黑神话：悟空》的DLC和开发基于中国神话的新游戏。此外，游戏科学还在扩招人才，以支持新项目的开发和公司规模的扩大。未来可能会有更多与《黑神话》相关的内容和IP生态的扩展。\n"
     ]
    }
   ],
   "execution_count": 40
  },
  {
   "metadata": {
    "ExecuteTime": {
     "end_time": "2024-12-24T14:07:21.469630Z",
     "start_time": "2024-12-24T14:07:12.190906Z"
    }
   },
   "cell_type": "code",
   "source": [
    "# 批量生成回答\n",
    "prompt_value = rag_chain.batch([\"游戏科学接受了阿里巴巴的投资吗？\"])\n",
    "output_parser = StrOutputParser()\n",
    "for idx, m in enumerate(prompt_value):\n",
    "    print(f\"{idx}:\\n\")\n",
    "    print(output_parser.invoke(m))\n",
    "    print(\"\\n\")"
   ],
   "id": "d142fb12ca2b0d67",
   "outputs": [
    {
     "name": "stdout",
     "output_type": "stream",
     "text": [
      "0:\n",
      "\n",
      "我不知道游戏科学是否接受了阿里巴巴的投资。上下文中提到的投资主要是来自英雄游戏和腾讯。\n",
      "\n",
      "\n"
     ]
    }
   ],
   "execution_count": 48
  },
  {
   "metadata": {},
   "cell_type": "markdown",
   "source": "## 5.5 自定义提示词模板",
   "id": "7854bfaf7d23d37f"
  },
  {
   "metadata": {
    "ExecuteTime": {
     "end_time": "2024-12-24T14:11:36.516655Z",
     "start_time": "2024-12-24T14:11:36.513654Z"
    }
   },
   "cell_type": "code",
   "source": [
    "# 自定义提示词模板\n",
    "from langchain_core.prompts import PromptTemplate\n",
    "template = \"\"\"\n",
    "角色设定：你是一个优秀的猎头，能从复杂的公开信息中（如新闻中）筛选出招聘信息。\n",
    "任务背景：{context}\n",
    "任务目标: {question}\n",
    "约束规则: 如果你不知道答案，就说\"不知道\"；让我们说中文。\n",
    "\"\"\"\n",
    "custom_rag_prompt = PromptTemplate.from_template(template)"
   ],
   "id": "9fa419243faf015f",
   "outputs": [],
   "execution_count": 51
  },
  {
   "metadata": {
    "ExecuteTime": {
     "end_time": "2024-12-24T14:12:13.686246Z",
     "start_time": "2024-12-24T14:11:48.307657Z"
    }
   },
   "cell_type": "code",
   "source": [
    "# 重新自定义 RAG Chain\n",
    "custom_rag_chain = (\n",
    "    {\"context\": retriever, \"question\": RunnablePassthrough()}\n",
    "    | custom_rag_prompt\n",
    "    | llm\n",
    "    | StrOutputParser()\n",
    ")\n",
    "prompt_value = custom_rag_chain.batch([\"游戏科学招聘地点在哪里?\", \"游戏科学下一步计划做什么?\", \"游戏科学接受了阿里巴巴的投资吗？\"])\n",
    "output_parser = StrOutputParser()\n",
    "for idx, m in enumerate(prompt_value):\n",
    "    print(f\"{idx}:\")\n",
    "    print(output_parser.invoke(m))\n",
    "    print(\"\\n\")"
   ],
   "id": "43f9d8ca49e89c46",
   "outputs": [
    {
     "name": "stdout",
     "output_type": "stream",
     "text": [
      "0:\n",
      "游戏科学的招聘地点包括深圳和杭州。\n",
      "\n",
      "\n",
      "1:\n",
      "游戏科学的下一步计划包括推出《黑神话：悟空》的DLC以及启动基于中国神话的新项目。这些新项目将不会再等待六年时间，而是希望能够更快地推进。此外，随着《黑神话：悟空》的成功，游戏科学还计划扩招，预计会有多个研发和运营岗位开放，以支持新项目的开发和品牌的扩展。\n",
      "\n",
      "\n",
      "2:\n",
      "不知道。\n",
      "\n",
      "\n"
     ]
    }
   ],
   "execution_count": 52
  },
  {
   "metadata": {},
   "cell_type": "markdown",
   "source": "提问三个问题，使用langSmith hub提示词准确回答出来问题。使用自定义的提示词也成功回答出来问题，但是相比之下，提问向量数据库中未包含的信息，langSmith hub的提示词引导的ai回答还会给出相关的信息。我自己设置的提示词只会按照我的设定回答不知道。",
   "id": "4e11807223220ff6"
  }
 ],
 "metadata": {
  "kernelspec": {
   "display_name": "Python 3",
   "language": "python",
   "name": "python3"
  },
  "language_info": {
   "codemirror_mode": {
    "name": "ipython",
    "version": 2
   },
   "file_extension": ".py",
   "mimetype": "text/x-python",
   "name": "python",
   "nbconvert_exporter": "python",
   "pygments_lexer": "ipython2",
   "version": "2.7.6"
  }
 },
 "nbformat": 4,
 "nbformat_minor": 5
}
